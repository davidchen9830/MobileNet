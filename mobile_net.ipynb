{
 "cells": [
  {
   "cell_type": "markdown",
   "metadata": {
    "id": "1337W1dgf9Ww"
   },
   "source": [
    "# MobileNet in Keras"
   ]
  },
  {
   "cell_type": "code",
   "execution_count": null,
   "metadata": {
    "id": "SDO2ZL8rf9Wz"
   },
   "outputs": [],
   "source": [
    "import tensorflow as tf\n",
    "from tensorflow import keras\n",
    "import numpy as np\n",
    "import matplotlib.pyplot as plt"
   ]
  },
  {
   "cell_type": "code",
   "execution_count": null,
   "metadata": {
    "colab": {
     "base_uri": "https://localhost:8080/",
     "height": 312
    },
    "id": "7W9xTr95-8U2",
    "outputId": "3722d40f-e0d8-4e73-fd06-529e4272615d"
   },
   "outputs": [],
   "source": [
    "!/opt/bin/nvidia-smi"
   ]
  },
  {
   "cell_type": "markdown",
   "metadata": {
    "id": "T7iB0-Uof9XC"
   },
   "source": [
    "#### Learn more about the paper : https://arxiv.org/pdf/1704.04861.pdf"
   ]
  },
  {
   "cell_type": "code",
   "execution_count": null,
   "metadata": {
    "id": "gOJJSQ4Uf9XH"
   },
   "outputs": [],
   "source": [
    "class Conv(tf.keras.layers.Layer):\n",
    "    def __init__(self, input_shape, ks, s, filters):\n",
    "        super(Conv, self).__init__()\n",
    "        self.conv = tf.keras.layers.Conv2D(input_shape=input_shape,\n",
    "                                   kernel_size = ks,\n",
    "                                   strides = s,\n",
    "                                   padding = 'same',\n",
    "                                   use_bias = False,\n",
    "                                   filters = filters)\n",
    "        self.bn = tf.keras.layers.BatchNormalization()\n",
    "        self.relu = tf.keras.layers.Activation('relu')\n",
    "        \n",
    "    def call(self, inputs):\n",
    "        x = self.conv(inputs)\n",
    "        x = self.bn(x)\n",
    "        return self.relu(x)"
   ]
  },
  {
   "cell_type": "code",
   "execution_count": null,
   "metadata": {
    "id": "Wk0oYGXEf9XP"
   },
   "outputs": [],
   "source": [
    "class ConvDW(tf.keras.layers.Layer):\n",
    "    def __init__(self, ks, s, filters):\n",
    "        super(ConvDW, self).__init__()\n",
    "        self.dw = tf.keras.layers.DepthwiseConv2D(\n",
    "            kernel_size = ks,\n",
    "            strides = (s, s),\n",
    "            padding = 'same',\n",
    "            use_bias = False,\n",
    "        )\n",
    "        self.b1 = tf.keras.layers.BatchNormalization()\n",
    "        self.r1 = tf.keras.layers.Activation('relu')\n",
    "        self.pw = tf.keras.layers.Conv2D(\n",
    "            kernel_size=(1, 1),\n",
    "            strides = (1,1),\n",
    "            padding='same',\n",
    "            use_bias = False,\n",
    "            filters = filters)\n",
    "        self.b2 = tf.keras.layers.BatchNormalization()\n",
    "        self.r2 = tf.keras.layers.Activation('relu')\n",
    "        \n",
    "    def call(self, inputs):\n",
    "        x = self.dw(inputs)\n",
    "        x = self.b1(x)\n",
    "        x = self.r1(x)\n",
    "        \n",
    "        x = self.pw(x)\n",
    "        x = self.b2(x)\n",
    "        return self.r2(x)"
   ]
  },
  {
   "cell_type": "code",
   "execution_count": null,
   "metadata": {
    "id": "1bvjevCyf9XY"
   },
   "outputs": [],
   "source": [
    "class MobileNet(tf.keras.Model):\n",
    "    def __init__(self, alpha=1, rho=1, n_classes=1000, in_channels=3):\n",
    "        super(MobileNet, self).__init__()\n",
    "        \n",
    "        model = tf.keras.Sequential()\n",
    "        model.add(Conv((224, 224, 3), (3, 3), (2,2), 32))\n",
    "        \n",
    "        layer = [\n",
    "                (32, 64, (3, 3), 1),\n",
    "                (64, 128, (3, 3), 2),\n",
    "                (128, 128, (3, 3), 1),\n",
    "                (128, 128, (3, 3), 2),\n",
    "                (128, 256, (3, 3), 1),\n",
    "                (256, 512, (3, 3), 2),\n",
    "                *[(512, 512, (3, 3), 1) for _ in range(5)],\n",
    "                (512, 1024, (3,3), 2),\n",
    "                (1024, 1024, (3, 3), 2),\n",
    "                ]\n",
    "        for i in range(len(layer)):\n",
    "            in_channels, out_channels, kernel_size, stride = layer[i]\n",
    "            model.add(ConvDW(ks = kernel_size, s = stride, filters=out_channels))\n",
    "        \n",
    "        model.add(tf.keras.layers.GlobalAveragePooling2D())\n",
    "        model.add(tf.keras.layers.Dense(units = n_classes,\n",
    "                                        activation='softmax'))\n",
    "        self.model = model\n",
    "\n",
    "    def train(self, X_train, y_train, X_val,\n",
    "              training_generator, validation_generator, batch_size=32, epochs = 15):\n",
    "        self.model.compile(optimizer=\"rmsprop\",\n",
    "                          loss = tf.keras.losses.SparseCategoricalCrossentropy(),\n",
    "                           metrics=['accuracy'])\n",
    "        self.model.fit_generator(generator=training_generator,\n",
    "                                 steps_per_epoch = int(len(X_train) // batch_size),\n",
    "                                 validation_data = validation_generator,\n",
    "                                 verbose = 1,\n",
    "                                 validation_steps = int(len(X_val) // batch_size))\n",
    "    def predict(self, X):\n",
    "        return self.model.predict(X)"
   ]
  },
  {
   "cell_type": "code",
   "execution_count": null,
   "metadata": {
    "id": "YXnm7H8pf9Xf"
   },
   "outputs": [],
   "source": [
    "# NGL, ImageNet quite heavy, let's try Stanford Dogs\n",
    "# http://vision.stanford.edu/aditya86/ImageNetDogs/\n",
    "\n",
    "# Training part, all credits goes to \n",
    "# https://medium.com/@mrgarg.rajat/training-on-large-datasets-that-dont-fit-in-memory-in-keras-60a974785d71"
   ]
  },
  {
   "cell_type": "code",
   "execution_count": null,
   "metadata": {
    "colab": {
     "base_uri": "https://localhost:8080/",
     "height": 1000
    },
    "id": "jirnt77LwWzY",
    "outputId": "cd77a646-d841-41e9-b58f-acf56c1d3aaf"
   },
   "outputs": [],
   "source": [
    "!tar -xvf '/content/images.tar'"
   ]
  },
  {
   "cell_type": "code",
   "execution_count": null,
   "metadata": {
    "colab": {
     "base_uri": "https://localhost:8080/",
     "height": 348
    },
    "id": "VJnMhdjTi1Xz",
    "outputId": "9c2982df-2ff7-46fc-a44c-531de51d14ea"
   },
   "outputs": [],
   "source": [
    "import os\n",
    "import shutil\n",
    "import cv2\n",
    "\n",
    "train_dir = '/content/Images/'\n",
    "dest_dir = '/content/all_images/'\n",
    "\n",
    "filenames = []\n",
    "labels = []\n",
    "labels_counter = 0\n",
    "\n",
    "\n",
    "os.makedirs((os.path.dirname(dest_dir)), exist_ok=True)\n",
    "for subdir, dirs, files in os.walk(train_dir):\n",
    "  for file in files:\n",
    "    full_path = os.path.join(subdir, file)\n",
    "    shutil.copy(full_path, dest_dir + file)\n",
    "    filenames.append(file)\n",
    "    labels.append(labels_counter)\n",
    "  labels_counter += 1\n",
    "\n",
    "from sklearn.utils import shuffle\n",
    "\n",
    "filenames_shuffled, y_labels_shuffled = shuffle(filenames, labels)\n",
    "\n",
    "from sklearn.model_selection import train_test_split\n",
    "\n",
    "filenames_shuffled = np.array(filenames_shuffled)\n",
    "y_labels_shuffled = np.array(y_labels_shuffled)\n",
    "\n",
    "X_train_filenames, X_val_filenames, y_train, y_val = train_test_split(filenames_shuffled, y_labels_shuffled,\n",
    "                                                                      test_size=0.2, random_state=42)"
   ]
  },
  {
   "cell_type": "code",
   "execution_count": null,
   "metadata": {
    "id": "lXhnHkJMf9Xu"
   },
   "outputs": [],
   "source": [
    "class My_Custom_Generator(tf.keras.utils.Sequence):\n",
    "  def __init__(self, image_filenames, labels, batch_size):\n",
    "    self.image_filenames = image_filenames\n",
    "    self.labels = labels\n",
    "    self.batch_size = batch_size\n",
    "\n",
    "  def __len__(self):\n",
    "    return(np.ceil(len(self.image_filenames) / float(self.batch_size))).astype(np.int)\n",
    "\n",
    "  def __getitem__(self, idx):\n",
    "    batch_x = self.image_filenames[idx * self.batch_size : (idx+1) * self.batch_size]\n",
    "    batch_y = self.labels[idx * self.batch_size : (idx+1) * self.batch_size]\n",
    "    \n",
    "    X = []\n",
    "    for file_name in batch_x:\n",
    "      X.append(\n",
    "          (cv2.resize(\n",
    "              cv2.imread(dest_dir + file_name),\n",
    "              (224, 224)\n",
    "          )) / 255.0 \n",
    "      )\n",
    "    return np.array(X), np.array(batch_y)"
   ]
  },
  {
   "cell_type": "code",
   "execution_count": null,
   "metadata": {
    "id": "zYsv1ASdpI3W"
   },
   "outputs": [],
   "source": [
    "my_training_batch_generator = My_Custom_Generator(X_train_filenames, y_train, batch_size=32)\n",
    "my_validation_batch_generator = My_Custom_Generator(X_val_filenames, y_val, batch_size=32)"
   ]
  },
  {
   "cell_type": "code",
   "execution_count": null,
   "metadata": {
    "colab": {
     "base_uri": "https://localhost:8080/",
     "height": 86
    },
    "id": "845f_m12x-dz",
    "outputId": "5dee870e-8308-4694-fb3a-c7c46925e166"
   },
   "outputs": [],
   "source": [
    "print(X_train_filenames)\n",
    "print(y_train)\n",
    "print(labels_counter)"
   ]
  },
  {
   "cell_type": "code",
   "execution_count": null,
   "metadata": {
    "id": "QUOLbWc1f9Ye"
   },
   "outputs": [],
   "source": [
    "model = MobileNet(n_classes=labels_counter)"
   ]
  },
  {
   "cell_type": "code",
   "execution_count": null,
   "metadata": {
    "colab": {
     "base_uri": "https://localhost:8080/",
     "height": 348
    },
    "id": "zBFQ8ZMHf9Yn",
    "outputId": "500a61d2-2ded-4a52-f093-34f5a105f41a"
   },
   "outputs": [],
   "source": [
    "model.train(X_train_filenames, y_train, X_val_filenames, my_training_batch_generator,\n",
    "            my_validation_batch_generator, batch_size=32, epochs=15)"
   ]
  }
 ],
 "metadata": {
  "accelerator": "GPU",
  "colab": {
   "name": "mobile_net.ipynb",
   "provenance": []
  },
  "kernelspec": {
   "display_name": "Python 3",
   "language": "python",
   "name": "python3"
  },
  "language_info": {
   "codemirror_mode": {
    "name": "ipython",
    "version": 3
   },
   "file_extension": ".py",
   "mimetype": "text/x-python",
   "name": "python",
   "nbconvert_exporter": "python",
   "pygments_lexer": "ipython3",
   "version": "3.6.9"
  }
 },
 "nbformat": 4,
 "nbformat_minor": 1
}
